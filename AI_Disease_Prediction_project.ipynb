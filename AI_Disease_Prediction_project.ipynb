{
  "nbformat": 4,
  "nbformat_minor": 0,
  "metadata": {
    "colab": {
      "provenance": [],
      "authorship_tag": "ABX9TyP8HUanLV7UJ9pSvVcUtaAZ",
      "include_colab_link": true
    },
    "kernelspec": {
      "name": "python3",
      "display_name": "Python 3"
    },
    "language_info": {
      "name": "python"
    }
  },
  "cells": [
    {
      "cell_type": "markdown",
      "metadata": {
        "id": "view-in-github",
        "colab_type": "text"
      },
      "source": [
        "<a href=\"https://colab.research.google.com/github/krish-crozz/Data-science-Data-visualization-/blob/main/AI_Disease_Prediction_project.ipynb\" target=\"_parent\"><img src=\"https://colab.research.google.com/assets/colab-badge.svg\" alt=\"Open In Colab\"/></a>"
      ]
    },
    {
      "cell_type": "code",
      "source": [
        "import pandas as pd\n",
        "import numpy as np\n",
        "import seaborn as sns\n",
        "import matplotlib.pyplot as plt\n",
        "\n",
        "# Sample heart disease dataset (hardcoded)\n",
        "data = {\n",
        "    'age': [63, 37, 41, 56, 57],\n",
        "    'sex': [1, 1, 0, 1, 0],\n",
        "    'cp': [3, 2, 1, 1, 0],\n",
        "    'trestbps': [145, 130, 130, 120, 120],\n",
        "    'chol': [233, 250, 204, 236, 354],\n",
        "    'fbs': [1, 0, 0, 0, 0],\n",
        "    'restecg': [0, 1, 0, 1, 1],\n",
        "    'thalach': [150, 187, 172, 178, 163],\n",
        "    'exang': [0, 0, 0, 0, 1],\n",
        "    'oldpeak': [2.3, 3.5, 1.4, 0.8, 0.6],\n",
        "    'slope': [0, 0, 2, 2, 2],\n",
        "    'ca': [0, 0, 0, 0, 0],\n",
        "    'thal': [1, 2, 2, 2, 2],\n",
        "    'target': [1, 1, 1, 1, 0]\n",
        "}\n",
        "\n",
        "# Create DataFrame\n",
        "df = pd.DataFrame(data)\n",
        "\n",
        "# Display first few rows\n",
        "print(df.head())\n"
      ],
      "metadata": {
        "colab": {
          "base_uri": "https://localhost:8080/"
        },
        "id": "evJgl1MeZx3i",
        "outputId": "f8fc7098-20ab-479a-bab4-221dea24bd25"
      },
      "execution_count": 14,
      "outputs": [
        {
          "output_type": "stream",
          "name": "stdout",
          "text": [
            "   age  sex  cp  trestbps  chol  fbs  restecg  thalach  exang  oldpeak  slope  \\\n",
            "0   63    1   3       145   233    1        0      150      0      2.3      0   \n",
            "1   37    1   2       130   250    0        1      187      0      3.5      0   \n",
            "2   41    0   1       130   204    0        0      172      0      1.4      2   \n",
            "3   56    1   1       120   236    0        1      178      0      0.8      2   \n",
            "4   57    0   0       120   354    0        1      163      1      0.6      2   \n",
            "\n",
            "   ca  thal  target  \n",
            "0   0     1       1  \n",
            "1   0     2       1  \n",
            "2   0     2       1  \n",
            "3   0     2       1  \n",
            "4   0     2       0  \n"
          ]
        }
      ]
    }
  ]
}